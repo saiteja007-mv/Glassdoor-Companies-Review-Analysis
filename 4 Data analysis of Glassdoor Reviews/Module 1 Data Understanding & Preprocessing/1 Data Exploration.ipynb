{
 "cells": [
  {
   "cell_type": "markdown",
   "id": "cf97505f",
   "metadata": {},
   "source": [
    "# Data Exploration"
   ]
  },
  {
   "cell_type": "code",
   "execution_count": null,
   "id": "55f3b276",
   "metadata": {},
   "outputs": [],
   "source": [
    "import pandas as pd"
   ]
  },
  {
   "cell_type": "code",
   "execution_count": null,
   "id": "056a1b67",
   "metadata": {},
   "outputs": [],
   "source": [
    "# Glassdoor Companies Review Analysis\n",
    "reviews = pd.read_csv('C:\\Users\\saite\\OneDrive - University of Central Missouri\\Documents\\MS in CS\\Data Analyst\\Projects\\Employee Rentention Analysis\\Datasets\\Glassdoor Reviews Cleaned.csv')"
   ]
  },
  {
   "cell_type": "code",
   "execution_count": 16,
   "id": "833f37dd",
   "metadata": {},
   "outputs": [
    {
     "data": {
      "application/vnd.microsoft.datawrangler.viewer.v0+json": {
       "columns": [
        {
         "name": "index",
         "rawType": "int64",
         "type": "integer"
        },
        {
         "name": "Employeer ID",
         "rawType": "int64",
         "type": "integer"
        },
        {
         "name": "Employeer Name",
         "rawType": "object",
         "type": "string"
        },
        {
         "name": "Employement Status",
         "rawType": "object",
         "type": "string"
        },
        {
         "name": "job title",
         "rawType": "object",
         "type": "unknown"
        },
        {
         "name": "length of employement",
         "rawType": "int64",
         "type": "integer"
        },
        {
         "name": "location",
         "rawType": "object",
         "type": "unknown"
        },
        {
         "name": "isCurrent Job",
         "rawType": "bool",
         "type": "boolean"
        },
        {
         "name": "ratingCarrerOpportunities",
         "rawType": "int64",
         "type": "integer"
        },
        {
         "name": "ratingBusinessoutlook",
         "rawType": "object",
         "type": "unknown"
        },
        {
         "name": "ratingCEO",
         "rawType": "object",
         "type": "unknown"
        },
        {
         "name": "ratingCompensationand Benefits",
         "rawType": "int64",
         "type": "integer"
        },
        {
         "name": "ratingCulutreand Values",
         "rawType": "int64",
         "type": "integer"
        },
        {
         "name": "ratingDiversity and Inclusion",
         "rawType": "float64",
         "type": "float"
        },
        {
         "name": "rating Overall",
         "rawType": "float64",
         "type": "float"
        },
        {
         "name": "rating RecommendtoFriend",
         "rawType": "object",
         "type": "string"
        },
        {
         "name": "ratingSeniorleadership",
         "rawType": "float64",
         "type": "float"
        },
        {
         "name": "rating worklifebalance",
         "rawType": "float64",
         "type": "float"
        },
        {
         "name": "reviewdatetime",
         "rawType": "object",
         "type": "string"
        },
        {
         "name": "countHelpful",
         "rawType": "int64",
         "type": "integer"
        },
        {
         "name": "countNothelpful",
         "rawType": "int64",
         "type": "integer"
        },
        {
         "name": "summary",
         "rawType": "object",
         "type": "string"
        },
        {
         "name": "Advice",
         "rawType": "object",
         "type": "unknown"
        },
        {
         "name": "Cons",
         "rawType": "object",
         "type": "string"
        },
        {
         "name": "pros",
         "rawType": "object",
         "type": "string"
        }
       ],
       "ref": "266d84c7-3987-4289-9e0d-19aa953fb31c",
       "rows": [
        [
         "0",
         "5224839",
         "JPMorganChase",
         "REGULAR",
         "Private Client Banker",
         "9",
         "Los Angeles, CA",
         "True",
         "4",
         "POSITIVE",
         "APPROVE",
         "3",
         "4",
         "5.0",
         "4.0",
         "POSITIVE",
         "4.0",
         "5.0",
         "18-05-2025 23:05",
         "0",
         "0",
         "Great Company, Location &amp; Team Dependent",
         "Increase base pay for private client bankers. Increase retail employees technological capabilities to assist clients resolving issues and to enhance client outreach.",
         "Dependent on team and location. Lots of widget chasing, always a new priority being added. Handcuffed by back office mistakes and slow tech. Not agile or flexible enough in the retail space. Lots of branch teams have built in power structures, that make it difficult for new team members to break in and be productive. Comp plan changes regularly.",
         "Great place to learn the industry. If you're in the right office with the right team you can make $150-$300K as a banker if you are good. If you have the wrong team and wrong location you will be very, very lucky to clear $90K.  Work life balance varies by location. Your experience and income opportunity here will be very highly dependent on your location. Your work-life balance, happiness at work, and team collaboration will be highly dependent on your manager. Everything depends on the quality of your partner and your manager's competence. Great benefits, base pay is very bad &amp; not competitive especially if you are good. Learn the incentive plan and max out your pvc's"
        ],
        [
         "1",
         "5224839",
         "JPMorganChase",
         "REGULAR",
         "Senior Associate",
         "6",
         "New York, NY",
         "True",
         "5",
         "POSITIVE",
         "APPROVE",
         "5",
         "5",
         "5.0",
         "5.0",
         "POSITIVE",
         "5.0",
         "5.0",
         "31-05-2025 09:15",
         "0",
         "0",
         "Good place to work",
         null,
         "Pay is on lower end",
         "Friendly people, collaborative, good culture"
        ],
        [
         "2",
         "5224839",
         "JPMorganChase",
         "REGULAR",
         "Personal Banker",
         "4",
         "Chicago, IL",
         "True",
         "2",
         null,
         "APPROVE",
         "4",
         "2",
         "2.0",
         "2.0",
         "NEGATIVE",
         "2.0",
         "3.0",
         "23-05-2025 21:00",
         "0",
         "0",
         "Great Brand and Resources, But Support Varies by Management",
         "Advice to Management:\nInvest more in developing people leaders—not just performers. A more inclusive, empathetic, and communicative leadership approach could improve retention and morale. Not all employees thrive under a one-size-fits-all model, and those differences should be respected and supported.",
         "•\tThe employee experience depends heavily on local leadership. While some managers are supportive, others struggle with consistency, transparency, and follow-through.\n\t•\tCommunication around accommodations and internal mobility can be unclear, and support for neurodivergent employees isn’t always consistent in practice.\n\t•\tSometimes feedback processes feel performative, with little change even after raising legitimate concerns.",
         "•\tThe company offers a well-known name and solid benefits, including PTO, 401(k), and development resources.\n\t•\tThere are valuable training opportunities and certifications that can build a strong professional foundation.\n\t•\tClient interactions can be very rewarding, and there’s a real opportunity to make a difference in people’s lives."
        ],
        [
         "3",
         "5224839",
         "JPMorganChase",
         "REGULAR",
         "Software Engineer III",
         "2",
         "Seattle, WA",
         "True",
         "2",
         "NEGATIVE",
         "DISAPPROVE",
         "4",
         "1",
         "2.0",
         "2.0",
         "NEGATIVE",
         "1.0",
         "4.0",
         "13-05-2025 08:11",
         "0",
         "0",
         "Terrible developer experience in a low trust environment",
         "Ditch the LLMs, focus on process efficiency, foster a culture of blamelessness",
         "Developer experience at this company is catastrophically bad. Internal tools are extremely slow and unreliable. Developer processes are extremely inefficient with little concern shown to improving this. Devs on my team perform a lot of manual toil that could be automated if management showed any ability to think further than two weeks in advance.\n\nAll of this is of course a result of the highly conservative corporate culture. Communication is very difficult as everyone is looking to avoid blame and close out their tickets as fast as possible. This is only getting worse with the push to use LLMs: I had several interactions with my Technical Lead where he showed me flat-out broken code and demonstrated a complete misunderstanding of a tool he wanted to use, because he had asked the LLM instead of reading the docs.",
         "Interesting problems to work on"
        ],
        [
         "4",
         "5224839",
         "JPMorganChase",
         "REGULAR",
         null,
         "1",
         null,
         "False",
         "3",
         null,
         null,
         "4",
         "1",
         "2.0",
         "2.0",
         "NEGATIVE",
         "1.0",
         "2.0",
         "23-05-2025 07:39",
         "0",
         "0",
         "Disappointing",
         "360 annual reviews for management \nExit interviews for departing staff",
         "Poor management who have been granted permission to stay in their roles way too long with no accountability. \nNo dedicated office space - open floor plan with no privacy.\nA lot of people appeared to not know what they were doing but talked a big game.\nThere was an odd infatuation with the company’s CEO, although most had never met him or even been in the same room as him.\nIt can take a year or two to truly acclimate to your position.\nUpper management often looks miserable. The higher up you go, the more toxic the culture becomes.",
         "Compensation  \nIt looks good on your resume  \nTravel opportunities\nMany colleagues were nicer than expected"
        ]
       ],
       "shape": {
        "columns": 24,
        "rows": 5
       }
      },
      "text/html": [
       "<div>\n",
       "<style scoped>\n",
       "    .dataframe tbody tr th:only-of-type {\n",
       "        vertical-align: middle;\n",
       "    }\n",
       "\n",
       "    .dataframe tbody tr th {\n",
       "        vertical-align: top;\n",
       "    }\n",
       "\n",
       "    .dataframe thead th {\n",
       "        text-align: right;\n",
       "    }\n",
       "</style>\n",
       "<table border=\"1\" class=\"dataframe\">\n",
       "  <thead>\n",
       "    <tr style=\"text-align: right;\">\n",
       "      <th></th>\n",
       "      <th>Employeer ID</th>\n",
       "      <th>Employeer Name</th>\n",
       "      <th>Employement Status</th>\n",
       "      <th>job title</th>\n",
       "      <th>length of employement</th>\n",
       "      <th>location</th>\n",
       "      <th>isCurrent Job</th>\n",
       "      <th>ratingCarrerOpportunities</th>\n",
       "      <th>ratingBusinessoutlook</th>\n",
       "      <th>ratingCEO</th>\n",
       "      <th>...</th>\n",
       "      <th>rating RecommendtoFriend</th>\n",
       "      <th>ratingSeniorleadership</th>\n",
       "      <th>rating worklifebalance</th>\n",
       "      <th>reviewdatetime</th>\n",
       "      <th>countHelpful</th>\n",
       "      <th>countNothelpful</th>\n",
       "      <th>summary</th>\n",
       "      <th>Advice</th>\n",
       "      <th>Cons</th>\n",
       "      <th>pros</th>\n",
       "    </tr>\n",
       "  </thead>\n",
       "  <tbody>\n",
       "    <tr>\n",
       "      <th>0</th>\n",
       "      <td>5224839</td>\n",
       "      <td>JPMorganChase</td>\n",
       "      <td>REGULAR</td>\n",
       "      <td>Private Client Banker</td>\n",
       "      <td>9</td>\n",
       "      <td>Los Angeles, CA</td>\n",
       "      <td>True</td>\n",
       "      <td>4</td>\n",
       "      <td>POSITIVE</td>\n",
       "      <td>APPROVE</td>\n",
       "      <td>...</td>\n",
       "      <td>POSITIVE</td>\n",
       "      <td>4.0</td>\n",
       "      <td>5.0</td>\n",
       "      <td>18-05-2025 23:05</td>\n",
       "      <td>0</td>\n",
       "      <td>0</td>\n",
       "      <td>Great Company, Location &amp;amp; Team Dependent</td>\n",
       "      <td>Increase base pay for private client bankers. ...</td>\n",
       "      <td>Dependent on team and location. Lots of widget...</td>\n",
       "      <td>Great place to learn the industry. If you're i...</td>\n",
       "    </tr>\n",
       "    <tr>\n",
       "      <th>1</th>\n",
       "      <td>5224839</td>\n",
       "      <td>JPMorganChase</td>\n",
       "      <td>REGULAR</td>\n",
       "      <td>Senior Associate</td>\n",
       "      <td>6</td>\n",
       "      <td>New York, NY</td>\n",
       "      <td>True</td>\n",
       "      <td>5</td>\n",
       "      <td>POSITIVE</td>\n",
       "      <td>APPROVE</td>\n",
       "      <td>...</td>\n",
       "      <td>POSITIVE</td>\n",
       "      <td>5.0</td>\n",
       "      <td>5.0</td>\n",
       "      <td>31-05-2025 09:15</td>\n",
       "      <td>0</td>\n",
       "      <td>0</td>\n",
       "      <td>Good place to work</td>\n",
       "      <td>NaN</td>\n",
       "      <td>Pay is on lower end</td>\n",
       "      <td>Friendly people, collaborative, good culture</td>\n",
       "    </tr>\n",
       "    <tr>\n",
       "      <th>2</th>\n",
       "      <td>5224839</td>\n",
       "      <td>JPMorganChase</td>\n",
       "      <td>REGULAR</td>\n",
       "      <td>Personal Banker</td>\n",
       "      <td>4</td>\n",
       "      <td>Chicago, IL</td>\n",
       "      <td>True</td>\n",
       "      <td>2</td>\n",
       "      <td>NaN</td>\n",
       "      <td>APPROVE</td>\n",
       "      <td>...</td>\n",
       "      <td>NEGATIVE</td>\n",
       "      <td>2.0</td>\n",
       "      <td>3.0</td>\n",
       "      <td>23-05-2025 21:00</td>\n",
       "      <td>0</td>\n",
       "      <td>0</td>\n",
       "      <td>Great Brand and Resources, But Support Varies ...</td>\n",
       "      <td>Advice to Management:\\nInvest more in developi...</td>\n",
       "      <td>•\\tThe employee experience depends heavily on ...</td>\n",
       "      <td>•\\tThe company offers a well-known name and so...</td>\n",
       "    </tr>\n",
       "    <tr>\n",
       "      <th>3</th>\n",
       "      <td>5224839</td>\n",
       "      <td>JPMorganChase</td>\n",
       "      <td>REGULAR</td>\n",
       "      <td>Software Engineer III</td>\n",
       "      <td>2</td>\n",
       "      <td>Seattle, WA</td>\n",
       "      <td>True</td>\n",
       "      <td>2</td>\n",
       "      <td>NEGATIVE</td>\n",
       "      <td>DISAPPROVE</td>\n",
       "      <td>...</td>\n",
       "      <td>NEGATIVE</td>\n",
       "      <td>1.0</td>\n",
       "      <td>4.0</td>\n",
       "      <td>13-05-2025 08:11</td>\n",
       "      <td>0</td>\n",
       "      <td>0</td>\n",
       "      <td>Terrible developer experience in a low trust e...</td>\n",
       "      <td>Ditch the LLMs, focus on process efficiency, f...</td>\n",
       "      <td>Developer experience at this company is catast...</td>\n",
       "      <td>Interesting problems to work on</td>\n",
       "    </tr>\n",
       "    <tr>\n",
       "      <th>4</th>\n",
       "      <td>5224839</td>\n",
       "      <td>JPMorganChase</td>\n",
       "      <td>REGULAR</td>\n",
       "      <td>NaN</td>\n",
       "      <td>1</td>\n",
       "      <td>NaN</td>\n",
       "      <td>False</td>\n",
       "      <td>3</td>\n",
       "      <td>NaN</td>\n",
       "      <td>NaN</td>\n",
       "      <td>...</td>\n",
       "      <td>NEGATIVE</td>\n",
       "      <td>1.0</td>\n",
       "      <td>2.0</td>\n",
       "      <td>23-05-2025 07:39</td>\n",
       "      <td>0</td>\n",
       "      <td>0</td>\n",
       "      <td>Disappointing</td>\n",
       "      <td>360 annual reviews for management \\nExit inter...</td>\n",
       "      <td>Poor management who have been granted permissi...</td>\n",
       "      <td>Compensation  \\nIt looks good on your resume  ...</td>\n",
       "    </tr>\n",
       "  </tbody>\n",
       "</table>\n",
       "<p>5 rows × 24 columns</p>\n",
       "</div>"
      ],
      "text/plain": [
       "   Employeer ID Employeer Name Employement Status              job title  \\\n",
       "0       5224839  JPMorganChase            REGULAR  Private Client Banker   \n",
       "1       5224839  JPMorganChase            REGULAR       Senior Associate   \n",
       "2       5224839  JPMorganChase            REGULAR        Personal Banker   \n",
       "3       5224839  JPMorganChase            REGULAR  Software Engineer III   \n",
       "4       5224839  JPMorganChase            REGULAR                    NaN   \n",
       "\n",
       "   length of employement         location  isCurrent Job  \\\n",
       "0                      9  Los Angeles, CA           True   \n",
       "1                      6     New York, NY           True   \n",
       "2                      4      Chicago, IL           True   \n",
       "3                      2      Seattle, WA           True   \n",
       "4                      1              NaN          False   \n",
       "\n",
       "   ratingCarrerOpportunities ratingBusinessoutlook   ratingCEO  ...  \\\n",
       "0                          4              POSITIVE     APPROVE  ...   \n",
       "1                          5              POSITIVE     APPROVE  ...   \n",
       "2                          2                   NaN     APPROVE  ...   \n",
       "3                          2              NEGATIVE  DISAPPROVE  ...   \n",
       "4                          3                   NaN         NaN  ...   \n",
       "\n",
       "   rating RecommendtoFriend  ratingSeniorleadership  rating worklifebalance  \\\n",
       "0                  POSITIVE                     4.0                     5.0   \n",
       "1                  POSITIVE                     5.0                     5.0   \n",
       "2                  NEGATIVE                     2.0                     3.0   \n",
       "3                  NEGATIVE                     1.0                     4.0   \n",
       "4                  NEGATIVE                     1.0                     2.0   \n",
       "\n",
       "     reviewdatetime countHelpful  countNothelpful  \\\n",
       "0  18-05-2025 23:05            0                0   \n",
       "1  31-05-2025 09:15            0                0   \n",
       "2  23-05-2025 21:00            0                0   \n",
       "3  13-05-2025 08:11            0                0   \n",
       "4  23-05-2025 07:39            0                0   \n",
       "\n",
       "                                             summary  \\\n",
       "0       Great Company, Location &amp; Team Dependent   \n",
       "1                                 Good place to work   \n",
       "2  Great Brand and Resources, But Support Varies ...   \n",
       "3  Terrible developer experience in a low trust e...   \n",
       "4                                      Disappointing   \n",
       "\n",
       "                                              Advice  \\\n",
       "0  Increase base pay for private client bankers. ...   \n",
       "1                                                NaN   \n",
       "2  Advice to Management:\\nInvest more in developi...   \n",
       "3  Ditch the LLMs, focus on process efficiency, f...   \n",
       "4  360 annual reviews for management \\nExit inter...   \n",
       "\n",
       "                                                Cons  \\\n",
       "0  Dependent on team and location. Lots of widget...   \n",
       "1                                Pay is on lower end   \n",
       "2  •\\tThe employee experience depends heavily on ...   \n",
       "3  Developer experience at this company is catast...   \n",
       "4  Poor management who have been granted permissi...   \n",
       "\n",
       "                                                pros  \n",
       "0  Great place to learn the industry. If you're i...  \n",
       "1       Friendly people, collaborative, good culture  \n",
       "2  •\\tThe company offers a well-known name and so...  \n",
       "3                    Interesting problems to work on  \n",
       "4  Compensation  \\nIt looks good on your resume  ...  \n",
       "\n",
       "[5 rows x 24 columns]"
      ]
     },
     "execution_count": 16,
     "metadata": {},
     "output_type": "execute_result"
    }
   ],
   "source": [
    "reviews.head()"
   ]
  },
  {
   "cell_type": "code",
   "execution_count": 17,
   "id": "d1a89a44",
   "metadata": {},
   "outputs": [
    {
     "data": {
      "text/plain": [
       "(11925, 24)"
      ]
     },
     "execution_count": 17,
     "metadata": {},
     "output_type": "execute_result"
    }
   ],
   "source": [
    "reviews.shape"
   ]
  },
  {
   "cell_type": "markdown",
   "id": "fcf11913",
   "metadata": {},
   "source": [
    "# The dataset consists of 24 columns and 11925 Rows"
   ]
  },
  {
   "cell_type": "code",
   "execution_count": 18,
   "id": "62549bfb",
   "metadata": {},
   "outputs": [
    {
     "data": {
      "text/plain": [
       "127"
      ]
     },
     "execution_count": 18,
     "metadata": {},
     "output_type": "execute_result"
    }
   ],
   "source": [
    "reviews['Employeer Name'].nunique()"
   ]
  },
  {
   "cell_type": "markdown",
   "id": "b4f55b0c",
   "metadata": {},
   "source": [
    "### By this we can conclude that we have the data from 127 different companies"
   ]
  },
  {
   "cell_type": "code",
   "execution_count": 19,
   "id": "1b55449f",
   "metadata": {},
   "outputs": [
    {
     "data": {
      "application/vnd.microsoft.datawrangler.viewer.v0+json": {
       "columns": [
        {
         "name": "Employeer Name",
         "rawType": "object",
         "type": "string"
        },
        {
         "name": "count",
         "rawType": "int64",
         "type": "integer"
        }
       ],
       "ref": "b61ce224-107f-441a-9b16-5649a87de81d",
       "rows": [
        [
         "Elevance Health",
         "109"
        ],
        [
         "NextEra Energy, Inc.",
         "109"
        ],
        [
         "Centene",
         "109"
        ],
        [
         "ExxonMobil",
         "100"
        ],
        [
         "Apple",
         "100"
        ],
        [
         "UnitedHealth Group",
         "100"
        ],
        [
         "Berkshire Hathaway",
         "100"
        ],
        [
         "Goldman Sachs",
         "100"
        ],
        [
         "Citi",
         "100"
        ],
        [
         "Procter & Gamble",
         "100"
        ],
        [
         "CVS Health",
         "100"
        ],
        [
         "Comcast",
         "100"
        ],
        [
         "American Express",
         "100"
        ],
        [
         "AT&T",
         "100"
        ],
        [
         "JPMorganChase",
         "100"
        ],
        [
         "The Home Depot",
         "100"
        ],
        [
         "IBM",
         "100"
        ],
        [
         "Broadcom",
         "100"
        ],
        [
         "Tesla",
         "100"
        ],
        [
         "Lockheed Martin",
         "100"
        ],
        [
         "Visa Inc.",
         "100"
        ],
        [
         "Ford Motor Company",
         "100"
        ],
        [
         "Charles Schwab",
         "100"
        ],
        [
         "John Deere",
         "100"
        ],
        [
         "NVIDIA",
         "100"
        ],
        [
         "Intel Corporation",
         "100"
        ],
        [
         "ConocoPhillips",
         "100"
        ],
        [
         "The Coca-Cola Company",
         "100"
        ],
        [
         "GE Aerospace",
         "100"
        ],
        [
         "Costco Wholesale",
         "100"
        ],
        [
         "Amazon",
         "100"
        ],
        [
         "KKR",
         "100"
        ],
        [
         "Eli Lilly and Company",
         "100"
        ],
        [
         "Abbott",
         "100"
        ],
        [
         "Merck",
         "100"
        ],
        [
         "Dell Technologies",
         "100"
        ],
        [
         "Walt Disney Company",
         "100"
        ],
        [
         "The PNC Financial Services",
         "100"
        ],
        [
         "Capital One",
         "100"
        ],
        [
         "Phillips 66",
         "100"
        ],
        [
         "Mastercard",
         "100"
        ],
        [
         "PayPal",
         "100"
        ],
        [
         "McDonald's",
         "100"
        ],
        [
         "Travelers",
         "100"
        ],
        [
         "Union Pacific",
         "100"
        ],
        [
         "NIKE",
         "100"
        ],
        [
         "General Dynamics Information Technology",
         "100"
        ],
        [
         "Qualcomm",
         "100"
        ],
        [
         "Netflix",
         "100"
        ],
        [
         "Danaher",
         "100"
        ]
       ],
       "shape": {
        "columns": 1,
        "rows": 127
       }
      },
      "text/plain": [
       "Employeer Name\n",
       "Elevance Health         109\n",
       "NextEra Energy, Inc.    109\n",
       "Centene                 109\n",
       "ExxonMobil              100\n",
       "Apple                   100\n",
       "                       ... \n",
       "The Cigna Group          60\n",
       "Alphabet (GB)            60\n",
       "General Motors (GM)      60\n",
       "Duke Energy              47\n",
       "Applied Materials         9\n",
       "Name: count, Length: 127, dtype: int64"
      ]
     },
     "execution_count": 19,
     "metadata": {},
     "output_type": "execute_result"
    }
   ],
   "source": [
    "reviews['Employeer Name'].value_counts()"
   ]
  },
  {
   "cell_type": "markdown",
   "id": "529c5cdf",
   "metadata": {},
   "source": [
    "### We extracted max of 110 reviews or less from each company "
   ]
  },
  {
   "cell_type": "code",
   "execution_count": 20,
   "id": "4df73e57",
   "metadata": {},
   "outputs": [
    {
     "name": "stdout",
     "output_type": "stream",
     "text": [
      "['JPMorganChase' 'Berkshire Hathaway' 'Amazon' 'Microsoft' 'Alphabet (GB)'\n",
      " 'Apple' 'ExxonMobil' 'Wells Fargo' 'UnitedHealth Group' 'Walmart'\n",
      " 'Goldman Sachs' 'Meta' 'Morgan Stanley' 'Citi' 'Verizon' 'AT&T' 'Comcast'\n",
      " 'Johnson & Johnson' 'American Express' 'Tesla' 'Procter & Gamble'\n",
      " 'CVS Health' 'General Motors (GM)' 'Broadcom' 'PepsiCo' 'The Home Depot'\n",
      " 'Elevance Health' 'IBM' 'AbbVie' 'Cisco' 'The Cigna Group'\n",
      " 'Costco Wholesale' 'The Coca-Cola Company' 'GE Aerospace' 'CATERPILLAR'\n",
      " 'John Deere' 'Intel Corporation' 'ConocoPhillips' 'NVIDIA' 'RTX'\n",
      " 'U.S. Bank' 'Ford Motor Company' 'Capital One' 'Apollo Global Management'\n",
      " 'Visa Inc.' 'Thermo Fisher Scientific' 'Charles Schwab'\n",
      " 'Progressive Insurance' 'Marathon Petroleum' 'The PNC Financial Services'\n",
      " 'UPS' 'NextEra Energy, Inc.' 'Walt Disney Company' 'Phillips 66'\n",
      " 'Metlife' 'Salesforce' 'Merck' 'Abbott' 'Dell Technologies' 'FedEx'\n",
      " 'Lockheed Martin' 'Eli Lilly and Company' 'KKR'\n",
      " 'Philip Morris International' 'Valero' 'BNY' 'Prudential'\n",
      " \"Lowe's Home Improvement\" 'Charter Communications' 'Honeywell' 'McKesson'\n",
      " 'Duke Energy' 'Qualcomm' 'HCA Healthcare' 'Amgen' 'Southern Company'\n",
      " 'Danaher' 'Target' 'BlackRock' 'Netflix' 'Travelers' 'Union Pacific'\n",
      " \"McDonald's\" 'Centene' 'PayPal' 'Mastercard' 'Delta Air Lines'\n",
      " 'General Dynamics Information Technology' 'NIKE' 'Aflac'\n",
      " 'Occidental Petroleum' 'Fiserv' 'Cencora' 'SLB' 'ADP' 'Kraft Heinz' 'EOG'\n",
      " 'Applied Materials' 'ADM' 'Marsh McLennan' 'PACCAR'\n",
      " 'Pacific Gas and Electric' 'Allstate Insurance' 'Kroger' 'Humana'\n",
      " 'Ameriprise' 'American Electric Power' 'Northrop Grumman' 'Starbucks'\n",
      " 'Altria' 'Exelon' 'D.R. Horton' 'Discover' 'Lennar' 'Stryker'\n",
      " 'Texas Instruments' 'Constellation Energy' 'AMD' 'The Hartford' 'Adobe'\n",
      " 'Uber' 'Freeport-McMoRan' 'Fannie Mae' 'Nucor' 'Booking Holdings'\n",
      " 'Corebridge Financial' 'United Airlines']\n"
     ]
    }
   ],
   "source": [
    "companies = reviews['Employeer Name'].unique()\n",
    "print(companies)"
   ]
  },
  {
   "cell_type": "markdown",
   "id": "19aa2d18",
   "metadata": {},
   "source": [
    "### companies variable has the list of companies for which we extracted the reviews from glassdoor.\n",
    "### Companies are the list of Forbes top 127 "
   ]
  },
  {
   "cell_type": "markdown",
   "id": "dad848fe",
   "metadata": {},
   "source": [
    "# Now lets dive into the details of each column"
   ]
  },
  {
   "cell_type": "code",
   "execution_count": 21,
   "id": "a6597b12",
   "metadata": {},
   "outputs": [
    {
     "data": {
      "text/plain": [
       "Index(['Employeer ID', 'Employeer Name', 'Employement Status', 'job title',\n",
       "       'length of employement', 'location', 'isCurrent Job',\n",
       "       'ratingCarrerOpportunities', 'ratingBusinessoutlook', 'ratingCEO',\n",
       "       'ratingCompensationand Benefits', 'ratingCulutreand Values',\n",
       "       'ratingDiversity and Inclusion', 'rating Overall',\n",
       "       'rating RecommendtoFriend', 'ratingSeniorleadership',\n",
       "       'rating worklifebalance', 'reviewdatetime', 'countHelpful',\n",
       "       'countNothelpful', 'summary', 'Advice', 'Cons', 'pros'],\n",
       "      dtype='object')"
      ]
     },
     "execution_count": 21,
     "metadata": {},
     "output_type": "execute_result"
    }
   ],
   "source": [
    "reviews.columns"
   ]
  },
  {
   "cell_type": "code",
   "execution_count": 22,
   "id": "869bdc90",
   "metadata": {},
   "outputs": [],
   "source": [
    "datatypes_reviews =reviews.dtypes"
   ]
  },
  {
   "cell_type": "code",
   "execution_count": 23,
   "id": "daa2ba17",
   "metadata": {},
   "outputs": [
    {
     "data": {
      "application/vnd.microsoft.datawrangler.viewer.v0+json": {
       "columns": [
        {
         "name": "index",
         "rawType": "object",
         "type": "string"
        },
        {
         "name": "0",
         "rawType": "object",
         "type": "unknown"
        }
       ],
       "ref": "a30d109f-0039-4479-b17c-62e22296bb95",
       "rows": [
        [
         "Employeer ID",
         "int64"
        ],
        [
         "Employeer Name",
         "object"
        ],
        [
         "Employement Status",
         "object"
        ],
        [
         "job title",
         "object"
        ],
        [
         "length of employement",
         "int64"
        ],
        [
         "location",
         "object"
        ],
        [
         "isCurrent Job",
         "bool"
        ],
        [
         "ratingCarrerOpportunities",
         "int64"
        ],
        [
         "ratingBusinessoutlook",
         "object"
        ],
        [
         "ratingCEO",
         "object"
        ],
        [
         "ratingCompensationand Benefits",
         "int64"
        ],
        [
         "ratingCulutreand Values",
         "int64"
        ],
        [
         "ratingDiversity and Inclusion",
         "float64"
        ],
        [
         "rating Overall",
         "float64"
        ],
        [
         "rating RecommendtoFriend",
         "object"
        ],
        [
         "ratingSeniorleadership",
         "float64"
        ],
        [
         "rating worklifebalance",
         "float64"
        ],
        [
         "reviewdatetime",
         "object"
        ],
        [
         "countHelpful",
         "int64"
        ],
        [
         "countNothelpful",
         "int64"
        ],
        [
         "summary",
         "object"
        ],
        [
         "Advice",
         "object"
        ],
        [
         "Cons",
         "object"
        ],
        [
         "pros",
         "object"
        ]
       ],
       "shape": {
        "columns": 1,
        "rows": 24
       }
      },
      "text/plain": [
       "Employeer ID                        int64\n",
       "Employeer Name                     object\n",
       "Employement Status                 object\n",
       "job title                          object\n",
       "length of employement               int64\n",
       "location                           object\n",
       "isCurrent Job                        bool\n",
       "ratingCarrerOpportunities           int64\n",
       "ratingBusinessoutlook              object\n",
       "ratingCEO                          object\n",
       "ratingCompensationand Benefits      int64\n",
       "ratingCulutreand Values             int64\n",
       "ratingDiversity and Inclusion     float64\n",
       "rating Overall                    float64\n",
       "rating RecommendtoFriend           object\n",
       "ratingSeniorleadership            float64\n",
       "rating worklifebalance            float64\n",
       "reviewdatetime                     object\n",
       "countHelpful                        int64\n",
       "countNothelpful                     int64\n",
       "summary                            object\n",
       "Advice                             object\n",
       "Cons                               object\n",
       "pros                               object\n",
       "dtype: object"
      ]
     },
     "execution_count": 23,
     "metadata": {},
     "output_type": "execute_result"
    }
   ],
   "source": [
    "datatypes_reviews"
   ]
  },
  {
   "cell_type": "code",
   "execution_count": null,
   "id": "e182c120",
   "metadata": {},
   "outputs": [],
   "source": []
  }
 ],
 "metadata": {
  "kernelspec": {
   "display_name": "empenv",
   "language": "python",
   "name": "python3"
  },
  "language_info": {
   "codemirror_mode": {
    "name": "ipython",
    "version": 3
   },
   "file_extension": ".py",
   "mimetype": "text/x-python",
   "name": "python",
   "nbconvert_exporter": "python",
   "pygments_lexer": "ipython3",
   "version": "3.13.5"
  }
 },
 "nbformat": 4,
 "nbformat_minor": 5
}
