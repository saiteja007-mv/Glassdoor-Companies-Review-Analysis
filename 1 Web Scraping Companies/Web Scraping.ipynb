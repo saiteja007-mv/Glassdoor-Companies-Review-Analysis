{
 "cells": [
  {
   "cell_type": "markdown",
   "id": "ec7a141d",
   "metadata": {},
   "source": [
    "### Scraping Forbes 2000 Companies list"
   ]
  },
  {
   "cell_type": "code",
   "execution_count": 12,
   "id": "94decd16",
   "metadata": {},
   "outputs": [
    {
     "name": "stdout",
     "output_type": "stream",
     "text": [
      "Requirement already satisfied: websocket-client in c:\\users\\saite\\anaconda3\\envs\\.venv\\lib\\site-packages (1.8.0)\n"
     ]
    }
   ],
   "source": [
    "!pip install websocket-client"
   ]
  },
  {
   "cell_type": "code",
   "execution_count": 4,
   "id": "06fbb94d",
   "metadata": {},
   "outputs": [
    {
     "name": "stdout",
     "output_type": "stream",
     "text": [
      "✅ Done scraping companies from the United States!\n"
     ]
    }
   ],
   "source": [
    "from selenium import webdriver\n",
    "from selenium.webdriver.support.ui import Select\n",
    "from selenium.webdriver.chrome.service import Service\n",
    "from bs4 import BeautifulSoup\n",
    "import pandas as pd\n",
    "import time\n",
    "\n",
    "# Setup driver\n",
    "options = webdriver.ChromeOptions()\n",
    "options.add_argument(\"--start-maximized\")\n",
    "service = Service()  # You can pass path to chromedriver if needed\n",
    "driver = webdriver.Chrome(service=service, options=options)\n",
    "\n",
    "# Load Forbes page\n",
    "driver.get(\"https://www.forbes.com/lists/global2000/\")\n",
    "time.sleep(5)  # Let JS load\n",
    "\n",
    "# Select 'United States' from dropdown\n",
    "select = Select(driver.find_element(\"id\", \"dropdown\"))\n",
    "select.select_by_visible_text(\"United States\")\n",
    "time.sleep(5)  # Let companies load\n",
    "\n",
    "# Get page content and parse\n",
    "soup = BeautifulSoup(driver.page_source, \"html.parser\")\n",
    "companies = soup.select(\"div.row-cell-value.nameField\")\n",
    "company_names = [tag.get_text(strip=True) for tag in companies]\n",
    "\n",
    "# Save to CSV\n",
    "df = pd.DataFrame(company_names, columns=[\"Company Name\"])\n",
    "df.to_csv(\"forbes_us_companies.csv\", index=False)\n",
    "\n",
    "print(\"✅ Done scraping companies from the United States!\")\n",
    "\n",
    "driver.quit()\n"
   ]
  },
  {
   "cell_type": "code",
   "execution_count": 15,
   "id": "7a56222a",
   "metadata": {},
   "outputs": [
    {
     "name": "stdout",
     "output_type": "stream",
     "text": [
      "✅ Scraped 621 companies and saved to 'forbes_us_companies_full.csv'\n"
     ]
    }
   ],
   "source": [
    "from selenium import webdriver\n",
    "from selenium.webdriver.support.ui import Select\n",
    "from selenium.webdriver.chrome.service import Service\n",
    "from selenium.webdriver.common.by import By\n",
    "from bs4 import BeautifulSoup\n",
    "import pandas as pd\n",
    "import time\n",
    "\n",
    "options = webdriver.ChromeOptions()\n",
    "options.add_argument(\"--start-maximized\")\n",
    "service = Service()\n",
    "driver = webdriver.Chrome(service=service, options=options)\n",
    "\n",
    "driver.get(\"https://www.forbes.com/lists/global2000/\")\n",
    "time.sleep(5)  # Wait for initial page load\n",
    "\n",
    "# Select United States\n",
    "select = Select(driver.find_element(By.ID, \"dropdown\"))\n",
    "select.select_by_visible_text(\"United States\")\n",
    "time.sleep(5)  # Let companies start loading\n",
    "\n",
    "# Scroll to bottom repeatedly to load all companies\n",
    "SCROLL_PAUSE = 2\n",
    "last_height = driver.execute_script(\"return document.body.scrollHeight\")\n",
    "new_companies_loaded = True\n",
    "\n",
    "while new_companies_loaded:\n",
    "    # Scroll down\n",
    "    driver.execute_script(\"window.scrollTo(0, document.body.scrollHeight);\")\n",
    "    time.sleep(SCROLL_PAUSE)\n",
    "    # Check if new height (new data loaded)\n",
    "    new_height = driver.execute_script(\"return document.body.scrollHeight\")\n",
    "    if new_height == last_height:\n",
    "        new_companies_loaded = False\n",
    "    else:\n",
    "        last_height = new_height\n",
    "\n",
    "# After all records loaded, parse\n",
    "soup = BeautifulSoup(driver.page_source, \"html.parser\")\n",
    "companies = soup.select(\"div.row-cell-value.nameField\")\n",
    "company_names = [tag.get_text(strip=True) for tag in companies]\n",
    "\n",
    "driver.quit()\n",
    "\n",
    "# Save to CSV\n",
    "df = pd.DataFrame(company_names, columns=[\"Company Name\"])\n",
    "df.to_csv(\"forbes_us_companies_full.csv\", index=False)\n",
    "print(f\"✅ Scraped {len(company_names)} companies and saved to 'forbes_us_companies_full.csv'\")\n"
   ]
  }
 ],
 "metadata": {
  "kernelspec": {
   "display_name": ".venv",
   "language": "python",
   "name": "python3"
  },
  "language_info": {
   "codemirror_mode": {
    "name": "ipython",
    "version": 3
   },
   "file_extension": ".py",
   "mimetype": "text/x-python",
   "name": "python",
   "nbconvert_exporter": "python",
   "pygments_lexer": "ipython3",
   "version": "3.12.9"
  }
 },
 "nbformat": 4,
 "nbformat_minor": 5
}
